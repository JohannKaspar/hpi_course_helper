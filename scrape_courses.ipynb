{
 "cells": [
  {
   "cell_type": "code",
   "execution_count": 5,
   "metadata": {},
   "outputs": [],
   "source": [
    "import importlib\n",
    "import sys\n",
    "from Module import CourseModule\n",
    "from scrape_helper import get_module_links, get_courses\n",
    "from helpers import courses_dict\n",
    "import sqlite3\n",
    "import os"
   ]
  },
  {
   "cell_type": "code",
   "execution_count": 6,
   "metadata": {},
   "outputs": [
    {
     "name": "stdout",
     "output_type": "stream",
     "text": [
      "Div with class 'tx-ciuniversity' not found for url: https://hpi.de//studium/im-studium/lehrveranstaltungen/professional-skills.html\n",
      "No modules found for course: https://hpi.de//studium/im-studium/lehrveranstaltungen/professional-skills.html\n",
      "Div with class 'tx-ciuniversity' not found for url: https://hpi.de/entrepreneurship/home.html\n",
      "No modules found for course: https://hpi.de/entrepreneurship/home.html\n"
     ]
    }
   ],
   "source": [
    "# Get the list of all courses from the given url\n",
    "courses = get_courses(\"https://hpi.de/studium/im-studium/lehrveranstaltungen.html\")\n",
    "\n",
    "# Dictionary to store the courses and their modules (trimmed links)\n",
    "course_modules = {}\n",
    "\n",
    "# Dictionary to store trimmed and full module links\n",
    "module_links_dict = {}\n",
    "\n",
    "for course in courses:\n",
    "\n",
    "    # get the list of modules for the given course\n",
    "    module_links = get_module_links(course)\n",
    "\n",
    "    # If no modules were found, skip the course\n",
    "    if module_links == []:\n",
    "        print(\"No modules found for course:\", course)\n",
    "        continue\n",
    "\n",
    "    # Cut the host part of the url\n",
    "    module_links_trimmed = [link.split(\"/\")[-1] for link in module_links]\n",
    "\n",
    "    # add the trimmed and full links to the dictionary\n",
    "    for trimmed, full in zip(module_links_trimmed, module_links):\n",
    "        module_links_dict[trimmed] = full\n",
    "    \n",
    "    # add the course and its modules to the dictionary\n",
    "    course_modules[course] = module_links_trimmed\n"
   ]
  },
  {
   "cell_type": "code",
   "execution_count": 7,
   "metadata": {},
   "outputs": [
    {
     "name": "stdout",
     "output_type": "stream",
     "text": [
      "Fetching data for module 1/115\n",
      "Fetching data for module 11/115\n",
      "Fetching data for module 21/115\n",
      "Fetching data for module 31/115\n",
      "Fetching data for module 41/115\n",
      "Fetching data for module 51/115\n",
      "Fetching data for module 61/115\n",
      "Fetching data for module 71/115\n",
      "Fetching data for module 81/115\n",
      "Fetching data for module 91/115\n",
      "Fetching data for module 101/115\n",
      "Fetching data for module 111/115\n"
     ]
    }
   ],
   "source": [
    "importlib.reload(sys.modules['Module'])\n",
    "# create a list of modules of class Module\n",
    "modules = {}\n",
    "\n",
    "# create a Module object for each module\n",
    "for i, (url_trimmed, url) in enumerate(module_links_dict.items()):\n",
    "    if i%10 == 0:\n",
    "        print(f\"Fetching data for module {i+1}/{len(module_links_dict)}\")\n",
    "\n",
    "    # create a Module object for the given url\n",
    "    module = CourseModule(url)\n",
    "    module.get_landing_page_information()\n",
    "    module.get_evaluation_metrics()\n",
    "\n",
    "    # add the module to the list of modules\n",
    "    modules[url_trimmed] = module"
   ]
  },
  {
   "cell_type": "code",
   "execution_count": 8,
   "metadata": {},
   "outputs": [],
   "source": [
    "# delete the database if it already exists\n",
    "try:\n",
    "    os.remove(\"hpi_modules.db\")\n",
    "except FileNotFoundError:\n",
    "    pass\n",
    "connection = sqlite3.connect(\"hpi_modules.db\")\n",
    "with open('sqlite_db_setup.sql', 'r') as sql_file:\n",
    "    sql_queries = sql_file.read()\n",
    "connection.executescript(sql_queries)\n",
    "connection.commit()"
   ]
  },
  {
   "cell_type": "code",
   "execution_count": 9,
   "metadata": {},
   "outputs": [
    {
     "name": "stdout",
     "output_type": "stream",
     "text": [
      "('itse_bachelor', 'IT-Systems Engineering BA')\n",
      "('itse_master', 'IT-Systems Engineering MA')\n",
      "('dh_master', 'Digital Health MA')\n",
      "('de_master', 'Data Engineering MA')\n",
      "('cyber_master', 'Cybersecurity MA')\n",
      "('sse_master', 'Software Systems Engineering MA')\n"
     ]
    }
   ],
   "source": [
    "cursor = connection.cursor()\n",
    "try:\n",
    "    cursor.executemany(\"INSERT INTO courses VALUES (?, ?)\", zip(courses_dict.values(), courses_dict.keys()))\n",
    "    connection.commit()\n",
    "except sqlite3.IntegrityError:\n",
    "    print(\"Courses already exist in the database\")\n",
    "for row in cursor.execute(\"SELECT * FROM courses\"):\n",
    "    print(row)"
   ]
  },
  {
   "cell_type": "code",
   "execution_count": 10,
   "metadata": {},
   "outputs": [],
   "source": [
    "for module in modules.values():\n",
    "    try:\n",
    "        cursor.execute(\"INSERT INTO modules VALUES (?, ?, ?, ?, ?, ?, ?, ?, ?)\",\n",
    "                    (module.url_trimmed,\n",
    "                    module.url,\n",
    "                    module.website,\n",
    "                    module.title,\n",
    "                    module.credits,\n",
    "                    module.evap_grade,\n",
    "                    module.evap_semester,\n",
    "                    module.description,\n",
    "                    module.lecturers))\n",
    "        connection.commit()\n",
    "    except sqlite3.IntegrityError:\n",
    "        print(\"Module already exists in database: \", module.url_trimmed)"
   ]
  },
  {
   "cell_type": "code",
   "execution_count": 11,
   "metadata": {},
   "outputs": [
    {
     "name": "stdout",
     "output_type": "stream",
     "text": [
      "IntegrityError: itse_bachelor, wise-23-24-3846-3d_computergrafik-i.html, SB, \n",
      "IntegrityError: itse_bachelor, wise-23-24-3846-3d_computergrafik-i.html, SB, \n"
     ]
    }
   ],
   "source": [
    "for module in modules.values():\n",
    "    for module_group in module.module_groups:\n",
    "        try:\n",
    "            cursor.execute(\"INSERT INTO course_modules VALUES (?, ?, ?, ?)\",\n",
    "                        [\n",
    "                            module_group[0],    # course abbreviation\n",
    "                            module.url_trimmed, # module url trimmed\n",
    "                            module_group[1],    # module group\n",
    "                            module_group[2]     # submodule group\n",
    "                        ]) \n",
    "            connection.commit()\n",
    "        except sqlite3.IntegrityError:\n",
    "            print(f\"IntegrityError: {module_group[0]}, {module.url_trimmed}, {module_group[1]}, {module_group[2]}\")"
   ]
  },
  {
   "cell_type": "code",
   "execution_count": 12,
   "metadata": {},
   "outputs": [
    {
     "name": "stdout",
     "output_type": "stream",
     "text": [
      "('wise-23-24-3940-founder-fundamentals.html', 'https://hpi.de/studium/im-studium/lehrveranstaltungen/cybersecurity-ma/lehrveranstaltung/wise-23-24-3940-founder-fundamentals.html', 'http://hpi.de/entrepreneurship/founder-fundamentals', 'Founder Fundamentals', 3, 1.1, 'WS 22/23', None, 'Dr. Frank Pawlitschek, (School of Entrepreneurship), http://hpi.de/entrepreneurship/founder-fundamentals', 'dh_master', 'wise-23-24-3940-founder-fundamentals.html', 'PSK', 'ML', 'dh_master', 'Digital Health MA')\n",
      "('wise-23-24-3934-intrapersonelle--interpersonelle-kompetenzen.html', 'https://hpi.de/studium/im-studium/lehrveranstaltungen/cybersecurity-ma/lehrveranstaltung/wise-23-24-3934-intrapersonelle--interpersonelle-kompetenzen.html', None, 'Intrapersonelle & Interpersonelle Kompetenzen', 3, 1.1, 'WS 22/23', '\\xadJeder Mensch hat unterschiedliche Vorgehensweisen bei der Bearbeitung von Aufgaben und beim Umgang mit herausfordernden Situationen. Einerseits werden diese Muster durch unsere Erfahrungen geprägt. Sie legen nahe, wann und wie wir Probleme lösen, welche Schwerpunkte wir dabei setzen und welchen “Preis” wir dafür zahlen. Andererseits prägen wir mit diesen Vorgehensweisen unsere Beziehungen, die Kommunikation und die Wirkungen gegenüber Anderen. Wir widmen uns den sogenannten „Metakompetenzen“ und der (zwischen)menschlichen „Software“ mit folgenden Schwerpunkten:\\nA) Menschen mit ausgeprägten intrapersonellen Kompetenzen sind sich ihrer Stärken, Motivationen, Emotionen und Bedürfnisse sowie deren Ursachen bewusst. Sie reflektieren sich regelmäßig, nutzen ihre Intuition und haben Freude daran, selbstbewusst, ihre Potenziale weiter zu entfalten. Lernziele, Sie:\\nentwickeln eine Grundausrichtung, die Kraft gibt, zieht und inspiriert.- erarbeiten sich mentale Stärke und Strategien für Resilienz.- fokussieren Ihre Aufmerksamkeit auf das Wesentliche.- erkunden Ihren optimalen Leistungszustand\\nB) Menschen mit hohen interpersonellen Kompetenzen gestalten Interaktionen erfolgreich. Sie verstehen zwischenmenschliche Beziehungen, können gut Perspektiven wechseln, kommunizieren zielführend, lösen Spannungen auf und gestalten Gruppensituationen mit Positivität und Kreativität. Lernziele, Sie:\\nverbessern Ihre Kommunikation und erhöhen Ihre Durchsetzungskraft.- trainieren Ihre Empathie, kreative Perspektivenwechsel und verschiedene Dimensionen emotionaler Intelligenz.- erlernen das Überbringen unangenehmer Botschaften und Strategien zum Auflösen konfliktbehafteter Situationen.- trainieren Fähigkeiten für den Umgang mit Fehlern, der Potenzialentfaltung bei Veränderungsvorhaben und der Teamenergie.- stabilisieren ein entwicklungsorientiertes, agiles und kollaboratives Mind-Set.\\nDozentin\\nDr. Jana Leidenfrost:\\nTrainerin und Beraterin im Feld der Internationalen Führungskräfteentwicklung sowie Psychologisches Mentoring in Hochleistungsbereichen. Lehrbeauftragte an verschiedenen Hochschulen; zwischen 2000 und 2010 Managerin, Trainerin und Coach im Feld der Führungskräfteentwicklung der Daimler AG', 'Dr. Jana Leidenfrost', 'dh_master', 'wise-23-24-3934-intrapersonelle--interpersonelle-kompetenzen.html', 'PSK', 'CO', 'dh_master', 'Digital Health MA')\n",
      "('wise-23-24-3845-mobilkommunikation.html', 'https://hpi.de/studium/im-studium/lehrveranstaltungen/cybersecurity-ma/lehrveranstaltung/wise-23-24-3845-mobilkommunikation.html', None, 'Mobilkommunikation', 6, 1.1, 'WS 21/22', None, 'Prof. Holger Karl', 'dh_master', 'wise-23-24-3845-mobilkommunikation.html', 'APAD', 'C', 'dh_master', 'Digital Health MA')\n",
      "('wise-23-24-3845-mobilkommunikation.html', 'https://hpi.de/studium/im-studium/lehrveranstaltungen/cybersecurity-ma/lehrveranstaltung/wise-23-24-3845-mobilkommunikation.html', None, 'Mobilkommunikation', 6, 1.1, 'WS 21/22', None, 'Prof. Holger Karl', 'dh_master', 'wise-23-24-3845-mobilkommunikation.html', 'APAD', 'T', 'dh_master', 'Digital Health MA')\n",
      "('wise-23-24-3845-mobilkommunikation.html', 'https://hpi.de/studium/im-studium/lehrveranstaltungen/cybersecurity-ma/lehrveranstaltung/wise-23-24-3845-mobilkommunikation.html', None, 'Mobilkommunikation', 6, 1.1, 'WS 21/22', None, 'Prof. Holger Karl', 'dh_master', 'wise-23-24-3845-mobilkommunikation.html', 'APAD', 'S', 'dh_master', 'Digital Health MA')\n"
     ]
    }
   ],
   "source": [
    "for row in cursor.execute(\"\"\"\n",
    "            SELECT * \n",
    "            FROM modules \n",
    "            JOIN course_modules ON modules.url_trimmed = course_modules.url_trimmed \n",
    "            JOIN courses ON courses.course_abbreviation = course_modules.course_abbreviation\n",
    "            WHERE courses.course_abbreviation LIKE 'dh_master'\n",
    "            AND modules.evap_grade < 1.2;\n",
    "            \"\"\"):\n",
    "    print(row)"
   ]
  },
  {
   "cell_type": "code",
   "execution_count": 13,
   "metadata": {},
   "outputs": [],
   "source": [
    "cursor.close()\n",
    "connection.close()"
   ]
  },
  {
   "cell_type": "code",
   "execution_count": null,
   "metadata": {},
   "outputs": [],
   "source": []
  }
 ],
 "metadata": {
  "kernelspec": {
   "display_name": "introduction_to_it_systems-yXmSL73L",
   "language": "python",
   "name": "python3"
  },
  "language_info": {
   "codemirror_mode": {
    "name": "ipython",
    "version": 3
   },
   "file_extension": ".py",
   "mimetype": "text/x-python",
   "name": "python",
   "nbconvert_exporter": "python",
   "pygments_lexer": "ipython3",
   "version": "3.8.6"
  }
 },
 "nbformat": 4,
 "nbformat_minor": 2
}
