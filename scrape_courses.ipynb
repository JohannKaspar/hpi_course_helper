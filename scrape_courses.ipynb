{
 "cells": [
  {
   "cell_type": "code",
   "execution_count": 158,
   "metadata": {},
   "outputs": [],
   "source": [
    "from Module import Module\n",
    "from scrape_hpi import get_module_links, get_courses"
   ]
  },
  {
   "cell_type": "code",
   "execution_count": 159,
   "metadata": {},
   "outputs": [
    {
     "name": "stdout",
     "output_type": "stream",
     "text": [
      "Div with class 'tx-ciuniversity' not found for url: https://hpi.de//studium/im-studium/lehrveranstaltungen/professional-skills.html\n",
      "No modules found for course: https://hpi.de//studium/im-studium/lehrveranstaltungen/professional-skills.html\n",
      "Div with class 'tx-ciuniversity' not found for url: https://hpi.de/https://hpi.de/entrepreneurship/home.html\n",
      "No modules found for course: https://hpi.de/https://hpi.de/entrepreneurship/home.html\n"
     ]
    }
   ],
   "source": [
    "# Get the list of all courses from the given url\n",
    "courses = get_courses(\"https://hpi.de/studium/im-studium/lehrveranstaltungen.html\")\n",
    "\n",
    "# Dictionary to store the courses and their modules (trimmed links)\n",
    "course_modules = {}\n",
    "\n",
    "# Dictionary to store trimmed and full module links\n",
    "module_links_dict = {}\n",
    "\n",
    "for course in courses:\n",
    "\n",
    "    # get the list of modules for the given course\n",
    "    module_links = get_module_links(course)\n",
    "\n",
    "    # If no modules were found, skip the course\n",
    "    if module_links == []:\n",
    "        print(\"No modules found for course:\", course)\n",
    "        continue\n",
    "\n",
    "    # Cut the host part of the url\n",
    "    module_links_trimmed = [link.split(\"/\")[-1] for link in module_links]\n",
    "\n",
    "    # add the trimmed and full links to the dictionary\n",
    "    for trimmed, full in zip(module_links_trimmed, module_links):\n",
    "        module_links_dict[trimmed] = full\n",
    "    \n",
    "    # add the course and its modules to the dictionary\n",
    "    course_modules[course] = module_links_trimmed\n"
   ]
  },
  {
   "cell_type": "code",
   "execution_count": 161,
   "metadata": {},
   "outputs": [
    {
     "name": "stdout",
     "output_type": "stream",
     "text": [
      "Fetching data for module 1/114\n",
      "Fetching data for module 6/114\n",
      "Fetching data for module 11/114\n",
      "Fetching data for module 16/114\n",
      "Fetching data for module 21/114\n",
      "Fetching data for module 26/114\n",
      "Fetching data for module 31/114\n",
      "Fetching data for module 36/114\n",
      "Fetching data for module 41/114\n",
      "Fetching data for module 46/114\n",
      "Fetching data for module 51/114\n",
      "Fetching data for module 56/114\n",
      "Fetching data for module 61/114\n",
      "Fetching data for module 66/114\n",
      "Fetching data for module 71/114\n",
      "Fetching data for module 76/114\n",
      "Fetching data for module 81/114\n",
      "Fetching data for module 86/114\n",
      "Fetching data for module 91/114\n",
      "Fetching data for module 96/114\n",
      "Fetching data for module 101/114\n",
      "Fetching data for module 106/114\n",
      "Fetching data for module 111/114\n"
     ]
    }
   ],
   "source": [
    "# create a list of modules of class Module\n",
    "modules = {}\n",
    "\n",
    "# create a Module object for each module\n",
    "for i, (url_trimmed, url) in enumerate(module_links_dict.items()):\n",
    "    if i%10 == 0:\n",
    "        print(f\"Fetching data for module {i+1}/{len(module_links_dict)}\")\n",
    "\n",
    "    # create a Module object for the given url\n",
    "    module = Module(url)\n",
    "\n",
    "    # add the module to the list of modules\n",
    "    modules[url_trimmed] = (module)\n",
    "\n"
   ]
  },
  {
   "cell_type": "code",
   "execution_count": 162,
   "metadata": {},
   "outputs": [
    {
     "name": "stdout",
     "output_type": "stream",
     "text": [
      "/friedrich/teaching/ws23/algogems.html\n",
      "/friedrich/teaching/ws23/algoriddles.html\n",
      "/friedrich/teaching/ws23/swiss-system-tournaments.html\n",
      "https://moodle.hpi.de/course/view.php?id=658\n",
      "/friedrich/teaching/ws23/competitive2.html\n",
      "/naumann/teaching/current-courses/ws-23-24/datenbanksysteme-ii-vl-bachelor.html\n",
      "https://moodle.hpi.de/course/view.php?id=656\n",
      "/friedrich/teaching/ws23/mathe1.html\n",
      "/friedrich/teaching/ws23/probtheory.html\n",
      "/friedrich/teaching/ws23/ti1.html\n",
      "/friedrich/teaching/ws23/tiunplugged.html\n",
      "https://hpi.de/entrepreneurship/understanding-entrepreneurship.html\n",
      "https://hpi.de/entrepreneurship/wirtschaftliche-grundlagen.html\n",
      "/friedrich/teaching/ws23/competitive2.html\n",
      "/friedrich/teaching/ws23/probtheory.html\n",
      "https://hpi.de/entrepreneurship/ai-in-practice.html\n",
      "https://hpi.de/baudisch/dokuwiki/algorithmic-folding-ws2024/start\n",
      "https://moodle.hpi.de/course/view.php?id=689\n",
      "/rabl/teaching/winter-term-2023-24/big-data-lab.html\n",
      "/rabl/teaching/winter-term-2023-24/big-data-systems.html\n",
      "https://moodle2.uni-potsdam.de/course/view.php?id=39223\n",
      "/friedrich/teaching/ws23/competitivedl2.html\n",
      "/naumann/teaching/current-courses/ws-23-24/data-cleaning-and-integration.html\n",
      "/rabl/teaching/winter-term-2023-24/data-processing-on-modern-hardware.html\n",
      "http://hpi.de/entrepreneurship/founder-fundamentals\n",
      "https://hpi.de/uebernickel/teaching/global-team-based-innovation-gti-design-thinking.html\n",
      "/friedrich/teaching/ws23/graphalg.html\n",
      "/rabl/teaching/winter-term-2023-24/lecture-series-on-database-research.html\n",
      "/rabl/teaching/winter-term-2023-24/ml-systems.html\n",
      "/naumann/teaching/current-courses/ws-23-24/methoden-der-forschung.html\n",
      "https://moodle.hpi.de/course/view.php?id=670\n",
      "/friedrich/teaching/ws23/pace.html\n",
      "/friedrich/teaching/ws23/algo-distance-oracles.html\n",
      "/friedrich/teaching/ws23/lean-theorem-prover.html\n",
      "http://hpi.de/plattner/teaching/winter-term-2023-24/trends-and-concepts-in-the-software-industry-seminar.html\n",
      "https://osm.hpi.de/research-seminar/\n",
      "https://moodle.hpi.de/course/view.php?id=684\n"
     ]
    }
   ],
   "source": [
    "for x, y in modules.items():\n",
    "    if y._website_url:\n",
    "        print(y._website_url) "
   ]
  },
  {
   "cell_type": "code",
   "execution_count": 154,
   "metadata": {},
   "outputs": [],
   "source": [
    "test = Module(list(modules.values())[0]._url)"
   ]
  },
  {
   "cell_type": "code",
   "execution_count": 155,
   "metadata": {},
   "outputs": [
    {
     "data": {
      "text/plain": [
       "'3D Computer Graphics: Extending the Three.js Framework (Wintersemester 2023/2024)'"
      ]
     },
     "execution_count": 155,
     "metadata": {},
     "output_type": "execute_result"
    }
   ],
   "source": [
    "test._title"
   ]
  }
 ],
 "metadata": {
  "kernelspec": {
   "display_name": "introduction_to_it_systems-yXmSL73L",
   "language": "python",
   "name": "python3"
  },
  "language_info": {
   "codemirror_mode": {
    "name": "ipython",
    "version": 3
   },
   "file_extension": ".py",
   "mimetype": "text/x-python",
   "name": "python",
   "nbconvert_exporter": "python",
   "pygments_lexer": "ipython3",
   "version": "3.9.18"
  }
 },
 "nbformat": 4,
 "nbformat_minor": 2
}
