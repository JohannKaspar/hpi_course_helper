{
 "cells": [
  {
   "cell_type": "code",
   "execution_count": 56,
   "metadata": {},
   "outputs": [],
   "source": [
    "import Module\n",
    "from scrape_helper import get_module_links, get_courses\n",
    "from helpers import courses_dict\n",
    "import sqlite3\n",
    "import os\n",
    "from importlib import reload"
   ]
  },
  {
   "cell_type": "code",
   "execution_count": 57,
   "metadata": {},
   "outputs": [
    {
     "name": "stdout",
     "output_type": "stream",
     "text": [
      "Div with class 'tx-ciuniversity' not found for url: https://hpi.de//studium/im-studium/lehrveranstaltungen/professional-skills.html\n",
      "No modules found for course: https://hpi.de//studium/im-studium/lehrveranstaltungen/professional-skills.html\n",
      "Div with class 'tx-ciuniversity' not found for url: https://hpi.de/entrepreneurship/home.html\n",
      "No modules found for course: https://hpi.de/entrepreneurship/home.html\n"
     ]
    }
   ],
   "source": [
    "# Get the list of all courses from the given url\n",
    "courses = get_courses(\"https://hpi.de/studium/im-studium/lehrveranstaltungen.html\")\n",
    "\n",
    "# Dictionary to store the courses and their modules (trimmed links)\n",
    "course_modules = {}\n",
    "\n",
    "# Dictionary to store trimmed and full module links\n",
    "module_links_dict = {}\n",
    "\n",
    "for course in courses:\n",
    "\n",
    "    # get the list of modules for the given course\n",
    "    module_links = get_module_links(course)\n",
    "\n",
    "    # If no modules were found, skip the course\n",
    "    if module_links == []:\n",
    "        print(\"No modules found for course:\", course)\n",
    "        continue\n",
    "\n",
    "    # Cut the host part of the url\n",
    "    module_links_trimmed = [link.split(\"/\")[-1] for link in module_links]\n",
    "\n",
    "    # add the trimmed and full links to the dictionary\n",
    "    for trimmed, full in zip(module_links_trimmed, module_links):\n",
    "        module_links_dict[trimmed] = full\n",
    "    \n",
    "    # add the course and its modules to the dictionary\n",
    "    course_modules[course] = module_links_trimmed\n"
   ]
  },
  {
   "cell_type": "code",
   "execution_count": 127,
   "metadata": {},
   "outputs": [
    {
     "name": "stdout",
     "output_type": "stream",
     "text": [
      "Fetching data for module 1/116\n",
      "Fetching data for module 11/116\n",
      "Fetching data for module 21/116\n",
      "Fetching data for module 31/116\n",
      "Fetching data for module 41/116\n",
      "Fetching data for module 51/116\n",
      "Fetching data for module 61/116\n",
      "Fetching data for module 71/116\n",
      "Fetching data for module 81/116\n",
      "Fetching data for module 91/116\n",
      "Fetching data for module 101/116\n",
      "Fetching data for module 111/116\n"
     ]
    }
   ],
   "source": [
    "reload(Module)\n",
    "# create a list of modules of class Module\n",
    "modules = {}\n",
    "\n",
    "# create a Module object for each module\n",
    "for i, (url_trimmed, url) in enumerate(module_links_dict.items()):    \n",
    "\n",
    "    if i%10 == 0:\n",
    "        print(f\"Fetching data for module {i+1}/{len(module_links_dict)}\")\n",
    "\n",
    "    # create a Module object for the given url\n",
    "    module = Module.CourseModule(url)\n",
    "    module.get_landing_page_information()\n",
    "    module.get_evaluation_metrics()\n",
    "\n",
    "    # add the module to the list of modules\n",
    "    modules[url_trimmed] = module"
   ]
  },
  {
   "cell_type": "code",
   "execution_count": 128,
   "metadata": {},
   "outputs": [],
   "source": [
    "# delete the database if it already exists\n",
    "try:\n",
    "    os.remove(\"hpi_modules.db\")\n",
    "except FileNotFoundError:\n",
    "    pass\n",
    "connection = sqlite3.connect(\"hpi_modules.db\")\n",
    "with open('sqlite_db_setup.sql', 'r') as sql_file:\n",
    "    sql_queries = sql_file.read()\n",
    "connection.executescript(sql_queries)\n",
    "connection.commit()"
   ]
  },
  {
   "cell_type": "code",
   "execution_count": 129,
   "metadata": {},
   "outputs": [
    {
     "name": "stdout",
     "output_type": "stream",
     "text": [
      "('itse_bachelor', 'IT-Systems Engineering BA')\n",
      "('itse_master', 'IT-Systems Engineering MA')\n",
      "('dh_master', 'Digital Health MA')\n",
      "('de_master', 'Data Engineering MA')\n",
      "('cyber_master', 'Cybersecurity MA')\n",
      "('sse_master', 'Software Systems Engineering MA')\n"
     ]
    }
   ],
   "source": [
    "cursor = connection.cursor()\n",
    "try:\n",
    "    cursor.executemany(\"INSERT INTO courses VALUES (?, ?)\", zip(courses_dict.values(), courses_dict.keys()))\n",
    "    connection.commit()\n",
    "except sqlite3.IntegrityError:\n",
    "    print(\"Courses already exist in the database\")\n",
    "for row in cursor.execute(\"SELECT * FROM courses\"):\n",
    "    print(row)"
   ]
  },
  {
   "cell_type": "code",
   "execution_count": 130,
   "metadata": {},
   "outputs": [],
   "source": [
    "for module in modules.values():\n",
    "    try:\n",
    "        cursor.execute(\n",
    "            \"INSERT INTO modules VALUES (?, ?, ?, ?, ?, ?, ?, ?)\",\n",
    "            (module.url_trimmed,\n",
    "            module.url,\n",
    "            module.website,\n",
    "            module.title,\n",
    "            module.credits,\n",
    "            module.evap_grade,\n",
    "            module.evap_semester,\n",
    "            module.description)\n",
    "        )\n",
    "        connection.commit()\n",
    "    except sqlite3.IntegrityError:\n",
    "        print(\"Module already exists in database: \", module.url_trimmed)"
   ]
  },
  {
   "cell_type": "code",
   "execution_count": 131,
   "metadata": {},
   "outputs": [
    {
     "data": {
      "text/plain": [
       "[(116,)]"
      ]
     },
     "execution_count": 131,
     "metadata": {},
     "output_type": "execute_result"
    }
   ],
   "source": [
    "cursor.execute(\"SELECT COUNT() FROM modules;\").fetchall()"
   ]
  },
  {
   "cell_type": "code",
   "execution_count": 132,
   "metadata": {},
   "outputs": [],
   "source": [
    "# insert lecturers and their modules into the database\n",
    "for module in modules.values():\n",
    "    for lecturer in module.lecturers:\n",
    "        # Try to insert the lecturer into the database or pass if exists\n",
    "        cursor.execute(\"INSERT OR IGNORE INTO lecturers (lecturer_name) VALUES (?)\", (lecturer,))\n",
    "        connection.commit()\n",
    "        \n",
    "        # Retrieve the lecturer_id for the current lecturer\n",
    "        cursor.execute(\"SELECT lecturer_id FROM lecturers WHERE lecturer_name = ?\", (lecturer,))\n",
    "        lecturer_id = cursor.fetchone()[0] # Assuming lecturer_name is unique\n",
    "        \n",
    "        # insert the module and the lecturer id into the module_lecturers table\n",
    "        try:\n",
    "            cursor.execute(\n",
    "                \"INSERT INTO module_lecturers (url_trimmed, lecturer_id) VALUES (?, ?)\",\n",
    "                (module.url_trimmed, lecturer_id)\n",
    "            )\n",
    "            connection.commit()\n",
    "        except sqlite3.IntegrityError:\n",
    "            continue"
   ]
  },
  {
   "cell_type": "code",
   "execution_count": 133,
   "metadata": {},
   "outputs": [
    {
     "data": {
      "text/plain": [
       "[(116,)]"
      ]
     },
     "execution_count": 133,
     "metadata": {},
     "output_type": "execute_result"
    }
   ],
   "source": [
    "cursor.execute(\"SELECT COUNT() FROM modules;\").fetchall()"
   ]
  },
  {
   "cell_type": "code",
   "execution_count": 134,
   "metadata": {},
   "outputs": [
    {
     "name": "stdout",
     "output_type": "stream",
     "text": [
      "IntegrityError: itse_bachelor, wise-23-24-3846-3d_computergrafik-i.html, SB, \n",
      "IntegrityError: itse_bachelor, wise-23-24-3846-3d_computergrafik-i.html, SB, \n"
     ]
    }
   ],
   "source": [
    "for module in modules.values():\n",
    "    for module_group in module.module_groups:\n",
    "        try:\n",
    "            cursor.execute(\"INSERT INTO course_modules VALUES (?, ?, ?, ?)\",\n",
    "                        [\n",
    "                            module_group[0],    # course abbreviation\n",
    "                            module.url_trimmed, # module url trimmed\n",
    "                            module_group[1],    # module group\n",
    "                            module_group[2]     # submodule group\n",
    "                        ]) \n",
    "            connection.commit()\n",
    "        except sqlite3.IntegrityError:\n",
    "            print(f\"IntegrityError: {module_group[0]}, {module.url_trimmed}, {module_group[1]}, {module_group[2]}\")"
   ]
  },
  {
   "cell_type": "code",
   "execution_count": 135,
   "metadata": {},
   "outputs": [
    {
     "name": "stdout",
     "output_type": "stream",
     "text": [
      "('wise-23-24-3859-applied-data-science-on-real_world-hospital-data-ii.html', 'https://hpi.de/studium/im-studium/lehrveranstaltungen/cybersecurity-ma/lehrveranstaltung/wise-23-24-3859-applied-data-science-on-real_world-hospital-data-ii.html', None, 'Applied data science on real-world hospital data II', 6, 1.1, 'WiSe 2025/26', '<p>Do you want to make a real impact in the field of healthcare? We invite you to seize the opportunity to become an integral part of an innovative healthcare project in collaboration with the Ernst von Bergmann Clinic, Policlinic, and MvZ. Building upon the successful \"Hospital Control Center\" seminar held in the summer semester of 2023, this project harnesses the knowledge acquired through prior data analysis to enhance hospital planning and, consequently, bolster public health.</p>\\n<p>As we\\'ve all come to realize during the COVID-19 pandemic, early warnings regarding the emergence of new infection waves are crucial for the well-being of the entire population, with a special emphasis on hospital capacity planning. Preventing unnecessary shutdowns of clinical operations and treatment delays, as well as avoiding the overload of hospital resources, is paramount. To avert such scenarios, we are taking action on multiple fronts</p>\\n<p>You will be engaged in the prediction of infection waves in the regions of Brandenburg and Berlin, forecasting the expected hospitalization rates, estimating patient lengths of stay, and projecting medical staff sick leave. These efforts collectively contribute to a comprehensive bed capacity forecast spanning various hospital units.</p>\\n<p>\\xa0</p>\\n<p><strong>Project Phases and Tasks:</strong></p>\\n<p><strong>1. Current State Analysis:</strong> Extract data from EVB databases to understand current hospital conditions, including patient numbers and scheduled procedures. Display this information on the HCC dashboard for easy access.</p>\\n<p>\\xa0</p>\\n<p><strong>2. Length of Stay Prediction: </strong>Building upon previous efforts, employ methods like Random Forest and Decision Trees to forecast patient lengths of stay. Enhance predictions by incorporating additional parameters such as diagnoses, disease severity scores, and lab results. Update the clinical information system (KIS) with these predictions.</p>\\n<p>\\xa0</p>\\n<p><strong>3. Emergency Department Prediction:</strong> Use historical data and results from the infection prediction, along with external factors like weather and holidays, to predict emergency department admissions.</p>\\n<p>\\xa0</p>\\n<p><strong>4. Respiratory Disease Incidence Prediction</strong>: Develop a predictive model for respiratory diseases using data from public sources, RKI data, hospital records, and demographic data. Provide insights into prediction uncertainties and consider creating geographical visualizations.</p>\\n<p>\\xa0</p>\\n<p><strong>5. Hospitalization due to Respiratory Diseases Prediction</strong>: Capitalize on incidence predictions to construct a model projecting hospitalization rate related to respiratory illnesses. Leverage MvZ physician practice data to assess illness severity before hospitalization.</p>\\n<p>\\xa0</p>\\n<p><strong>6. Medical Staff Sick Leave Prediction</strong>: Predict medical staff sick leave based on incidence predictions. This essential step ensures the accuracy of bed capacity forecasts, facilitating effective patient care.</p>\\n<p>\\xa0</p>\\n<p><strong>7. Bed Capacity Forecast:</strong> Combine all findings from Phases 1 to 6 to create a comprehensive bed capacity forecast for the upcoming two weeks. Verify forecast reliability using historical data. Design the bed capacity forecast to update automatically daily based on new data, ensuring real-time resource management.</p>\\n<p>\\xa0</p>\\n<p><strong>8. Geographical Disease Incidence Mapping:</strong> Enhance public awareness and support local businesses by generating user-friendly geographical visualizations depicting disease incidence and risk predictions for the Potsdam/Brandenburg region, promoting informed decision-making and community well-being.</p>\\n<p>\\xa0</p>\\n<p><strong>Why Should You Join?</strong></p><ol> <li><strong>Cutting-Edge Research</strong>: Be at the forefront of healthcare innovation, applying advanced AI and data analysis techniques.</li> <li><strong>Real-World Impact</strong>: Contribute to better healthcare planning, ensuring efficient use of resources and avoiding system overloads.</li> <li><strong>Hands-On Learning</strong>: Gain practical experience in data analysis of often non-ideal real-world data, different machine learning approaches, healthcare management and public health question</li> </ol><p><strong>Learning Objectives:</strong></p><ul> <li>Gain insight into clinical workflows and the intricacies of clinical data management within a healthcare setting.</li> <li>Develop an understanding of the challenges associated with working with real-world health data, including issues related to data quality, privacy, and ethical considerations.</li> <li>Acquire practical experience in working with large databases, learning data retrieval, manipulation, and analysis techniques.</li> <li>Learn to integrate and harmonize diverse data sources to improve the accuracy and robustness of analytical approaches.</li> <li>Develop the ability to critically compare and evaluate various statistical and machine learning methodologies, enabling informed decision-making in selecting the most suitable techniques for specific healthcare data analysis tasks.</li> </ul>', 'dh_master', 'wise-23-24-3859-applied-data-science-on-real_world-hospital-data-ii.html', 'DICR', 'C', 'dh_master', 'Digital Health MA')\n",
      "('wise-23-24-3859-applied-data-science-on-real_world-hospital-data-ii.html', 'https://hpi.de/studium/im-studium/lehrveranstaltungen/cybersecurity-ma/lehrveranstaltung/wise-23-24-3859-applied-data-science-on-real_world-hospital-data-ii.html', None, 'Applied data science on real-world hospital data II', 6, 1.1, 'WiSe 2025/26', '<p>Do you want to make a real impact in the field of healthcare? We invite you to seize the opportunity to become an integral part of an innovative healthcare project in collaboration with the Ernst von Bergmann Clinic, Policlinic, and MvZ. Building upon the successful \"Hospital Control Center\" seminar held in the summer semester of 2023, this project harnesses the knowledge acquired through prior data analysis to enhance hospital planning and, consequently, bolster public health.</p>\\n<p>As we\\'ve all come to realize during the COVID-19 pandemic, early warnings regarding the emergence of new infection waves are crucial for the well-being of the entire population, with a special emphasis on hospital capacity planning. Preventing unnecessary shutdowns of clinical operations and treatment delays, as well as avoiding the overload of hospital resources, is paramount. To avert such scenarios, we are taking action on multiple fronts</p>\\n<p>You will be engaged in the prediction of infection waves in the regions of Brandenburg and Berlin, forecasting the expected hospitalization rates, estimating patient lengths of stay, and projecting medical staff sick leave. These efforts collectively contribute to a comprehensive bed capacity forecast spanning various hospital units.</p>\\n<p>\\xa0</p>\\n<p><strong>Project Phases and Tasks:</strong></p>\\n<p><strong>1. Current State Analysis:</strong> Extract data from EVB databases to understand current hospital conditions, including patient numbers and scheduled procedures. Display this information on the HCC dashboard for easy access.</p>\\n<p>\\xa0</p>\\n<p><strong>2. Length of Stay Prediction: </strong>Building upon previous efforts, employ methods like Random Forest and Decision Trees to forecast patient lengths of stay. Enhance predictions by incorporating additional parameters such as diagnoses, disease severity scores, and lab results. Update the clinical information system (KIS) with these predictions.</p>\\n<p>\\xa0</p>\\n<p><strong>3. Emergency Department Prediction:</strong> Use historical data and results from the infection prediction, along with external factors like weather and holidays, to predict emergency department admissions.</p>\\n<p>\\xa0</p>\\n<p><strong>4. Respiratory Disease Incidence Prediction</strong>: Develop a predictive model for respiratory diseases using data from public sources, RKI data, hospital records, and demographic data. Provide insights into prediction uncertainties and consider creating geographical visualizations.</p>\\n<p>\\xa0</p>\\n<p><strong>5. Hospitalization due to Respiratory Diseases Prediction</strong>: Capitalize on incidence predictions to construct a model projecting hospitalization rate related to respiratory illnesses. Leverage MvZ physician practice data to assess illness severity before hospitalization.</p>\\n<p>\\xa0</p>\\n<p><strong>6. Medical Staff Sick Leave Prediction</strong>: Predict medical staff sick leave based on incidence predictions. This essential step ensures the accuracy of bed capacity forecasts, facilitating effective patient care.</p>\\n<p>\\xa0</p>\\n<p><strong>7. Bed Capacity Forecast:</strong> Combine all findings from Phases 1 to 6 to create a comprehensive bed capacity forecast for the upcoming two weeks. Verify forecast reliability using historical data. Design the bed capacity forecast to update automatically daily based on new data, ensuring real-time resource management.</p>\\n<p>\\xa0</p>\\n<p><strong>8. Geographical Disease Incidence Mapping:</strong> Enhance public awareness and support local businesses by generating user-friendly geographical visualizations depicting disease incidence and risk predictions for the Potsdam/Brandenburg region, promoting informed decision-making and community well-being.</p>\\n<p>\\xa0</p>\\n<p><strong>Why Should You Join?</strong></p><ol> <li><strong>Cutting-Edge Research</strong>: Be at the forefront of healthcare innovation, applying advanced AI and data analysis techniques.</li> <li><strong>Real-World Impact</strong>: Contribute to better healthcare planning, ensuring efficient use of resources and avoiding system overloads.</li> <li><strong>Hands-On Learning</strong>: Gain practical experience in data analysis of often non-ideal real-world data, different machine learning approaches, healthcare management and public health question</li> </ol><p><strong>Learning Objectives:</strong></p><ul> <li>Gain insight into clinical workflows and the intricacies of clinical data management within a healthcare setting.</li> <li>Develop an understanding of the challenges associated with working with real-world health data, including issues related to data quality, privacy, and ethical considerations.</li> <li>Acquire practical experience in working with large databases, learning data retrieval, manipulation, and analysis techniques.</li> <li>Learn to integrate and harmonize diverse data sources to improve the accuracy and robustness of analytical approaches.</li> <li>Develop the ability to critically compare and evaluate various statistical and machine learning methodologies, enabling informed decision-making in selecting the most suitable techniques for specific healthcare data analysis tasks.</li> </ul>', 'dh_master', 'wise-23-24-3859-applied-data-science-on-real_world-hospital-data-ii.html', 'DICR', 'T', 'dh_master', 'Digital Health MA')\n",
      "('wise-23-24-3859-applied-data-science-on-real_world-hospital-data-ii.html', 'https://hpi.de/studium/im-studium/lehrveranstaltungen/cybersecurity-ma/lehrveranstaltung/wise-23-24-3859-applied-data-science-on-real_world-hospital-data-ii.html', None, 'Applied data science on real-world hospital data II', 6, 1.1, 'WiSe 2025/26', '<p>Do you want to make a real impact in the field of healthcare? We invite you to seize the opportunity to become an integral part of an innovative healthcare project in collaboration with the Ernst von Bergmann Clinic, Policlinic, and MvZ. Building upon the successful \"Hospital Control Center\" seminar held in the summer semester of 2023, this project harnesses the knowledge acquired through prior data analysis to enhance hospital planning and, consequently, bolster public health.</p>\\n<p>As we\\'ve all come to realize during the COVID-19 pandemic, early warnings regarding the emergence of new infection waves are crucial for the well-being of the entire population, with a special emphasis on hospital capacity planning. Preventing unnecessary shutdowns of clinical operations and treatment delays, as well as avoiding the overload of hospital resources, is paramount. To avert such scenarios, we are taking action on multiple fronts</p>\\n<p>You will be engaged in the prediction of infection waves in the regions of Brandenburg and Berlin, forecasting the expected hospitalization rates, estimating patient lengths of stay, and projecting medical staff sick leave. These efforts collectively contribute to a comprehensive bed capacity forecast spanning various hospital units.</p>\\n<p>\\xa0</p>\\n<p><strong>Project Phases and Tasks:</strong></p>\\n<p><strong>1. Current State Analysis:</strong> Extract data from EVB databases to understand current hospital conditions, including patient numbers and scheduled procedures. Display this information on the HCC dashboard for easy access.</p>\\n<p>\\xa0</p>\\n<p><strong>2. Length of Stay Prediction: </strong>Building upon previous efforts, employ methods like Random Forest and Decision Trees to forecast patient lengths of stay. Enhance predictions by incorporating additional parameters such as diagnoses, disease severity scores, and lab results. Update the clinical information system (KIS) with these predictions.</p>\\n<p>\\xa0</p>\\n<p><strong>3. Emergency Department Prediction:</strong> Use historical data and results from the infection prediction, along with external factors like weather and holidays, to predict emergency department admissions.</p>\\n<p>\\xa0</p>\\n<p><strong>4. Respiratory Disease Incidence Prediction</strong>: Develop a predictive model for respiratory diseases using data from public sources, RKI data, hospital records, and demographic data. Provide insights into prediction uncertainties and consider creating geographical visualizations.</p>\\n<p>\\xa0</p>\\n<p><strong>5. Hospitalization due to Respiratory Diseases Prediction</strong>: Capitalize on incidence predictions to construct a model projecting hospitalization rate related to respiratory illnesses. Leverage MvZ physician practice data to assess illness severity before hospitalization.</p>\\n<p>\\xa0</p>\\n<p><strong>6. Medical Staff Sick Leave Prediction</strong>: Predict medical staff sick leave based on incidence predictions. This essential step ensures the accuracy of bed capacity forecasts, facilitating effective patient care.</p>\\n<p>\\xa0</p>\\n<p><strong>7. Bed Capacity Forecast:</strong> Combine all findings from Phases 1 to 6 to create a comprehensive bed capacity forecast for the upcoming two weeks. Verify forecast reliability using historical data. Design the bed capacity forecast to update automatically daily based on new data, ensuring real-time resource management.</p>\\n<p>\\xa0</p>\\n<p><strong>8. Geographical Disease Incidence Mapping:</strong> Enhance public awareness and support local businesses by generating user-friendly geographical visualizations depicting disease incidence and risk predictions for the Potsdam/Brandenburg region, promoting informed decision-making and community well-being.</p>\\n<p>\\xa0</p>\\n<p><strong>Why Should You Join?</strong></p><ol> <li><strong>Cutting-Edge Research</strong>: Be at the forefront of healthcare innovation, applying advanced AI and data analysis techniques.</li> <li><strong>Real-World Impact</strong>: Contribute to better healthcare planning, ensuring efficient use of resources and avoiding system overloads.</li> <li><strong>Hands-On Learning</strong>: Gain practical experience in data analysis of often non-ideal real-world data, different machine learning approaches, healthcare management and public health question</li> </ol><p><strong>Learning Objectives:</strong></p><ul> <li>Gain insight into clinical workflows and the intricacies of clinical data management within a healthcare setting.</li> <li>Develop an understanding of the challenges associated with working with real-world health data, including issues related to data quality, privacy, and ethical considerations.</li> <li>Acquire practical experience in working with large databases, learning data retrieval, manipulation, and analysis techniques.</li> <li>Learn to integrate and harmonize diverse data sources to improve the accuracy and robustness of analytical approaches.</li> <li>Develop the ability to critically compare and evaluate various statistical and machine learning methodologies, enabling informed decision-making in selecting the most suitable techniques for specific healthcare data analysis tasks.</li> </ul>', 'dh_master', 'wise-23-24-3859-applied-data-science-on-real_world-hospital-data-ii.html', 'DICR', 'S', 'dh_master', 'Digital Health MA')\n",
      "('wise-23-24-3859-applied-data-science-on-real_world-hospital-data-ii.html', 'https://hpi.de/studium/im-studium/lehrveranstaltungen/cybersecurity-ma/lehrveranstaltung/wise-23-24-3859-applied-data-science-on-real_world-hospital-data-ii.html', None, 'Applied data science on real-world hospital data II', 6, 1.1, 'WiSe 2025/26', '<p>Do you want to make a real impact in the field of healthcare? We invite you to seize the opportunity to become an integral part of an innovative healthcare project in collaboration with the Ernst von Bergmann Clinic, Policlinic, and MvZ. Building upon the successful \"Hospital Control Center\" seminar held in the summer semester of 2023, this project harnesses the knowledge acquired through prior data analysis to enhance hospital planning and, consequently, bolster public health.</p>\\n<p>As we\\'ve all come to realize during the COVID-19 pandemic, early warnings regarding the emergence of new infection waves are crucial for the well-being of the entire population, with a special emphasis on hospital capacity planning. Preventing unnecessary shutdowns of clinical operations and treatment delays, as well as avoiding the overload of hospital resources, is paramount. To avert such scenarios, we are taking action on multiple fronts</p>\\n<p>You will be engaged in the prediction of infection waves in the regions of Brandenburg and Berlin, forecasting the expected hospitalization rates, estimating patient lengths of stay, and projecting medical staff sick leave. These efforts collectively contribute to a comprehensive bed capacity forecast spanning various hospital units.</p>\\n<p>\\xa0</p>\\n<p><strong>Project Phases and Tasks:</strong></p>\\n<p><strong>1. Current State Analysis:</strong> Extract data from EVB databases to understand current hospital conditions, including patient numbers and scheduled procedures. Display this information on the HCC dashboard for easy access.</p>\\n<p>\\xa0</p>\\n<p><strong>2. Length of Stay Prediction: </strong>Building upon previous efforts, employ methods like Random Forest and Decision Trees to forecast patient lengths of stay. Enhance predictions by incorporating additional parameters such as diagnoses, disease severity scores, and lab results. Update the clinical information system (KIS) with these predictions.</p>\\n<p>\\xa0</p>\\n<p><strong>3. Emergency Department Prediction:</strong> Use historical data and results from the infection prediction, along with external factors like weather and holidays, to predict emergency department admissions.</p>\\n<p>\\xa0</p>\\n<p><strong>4. Respiratory Disease Incidence Prediction</strong>: Develop a predictive model for respiratory diseases using data from public sources, RKI data, hospital records, and demographic data. Provide insights into prediction uncertainties and consider creating geographical visualizations.</p>\\n<p>\\xa0</p>\\n<p><strong>5. Hospitalization due to Respiratory Diseases Prediction</strong>: Capitalize on incidence predictions to construct a model projecting hospitalization rate related to respiratory illnesses. Leverage MvZ physician practice data to assess illness severity before hospitalization.</p>\\n<p>\\xa0</p>\\n<p><strong>6. Medical Staff Sick Leave Prediction</strong>: Predict medical staff sick leave based on incidence predictions. This essential step ensures the accuracy of bed capacity forecasts, facilitating effective patient care.</p>\\n<p>\\xa0</p>\\n<p><strong>7. Bed Capacity Forecast:</strong> Combine all findings from Phases 1 to 6 to create a comprehensive bed capacity forecast for the upcoming two weeks. Verify forecast reliability using historical data. Design the bed capacity forecast to update automatically daily based on new data, ensuring real-time resource management.</p>\\n<p>\\xa0</p>\\n<p><strong>8. Geographical Disease Incidence Mapping:</strong> Enhance public awareness and support local businesses by generating user-friendly geographical visualizations depicting disease incidence and risk predictions for the Potsdam/Brandenburg region, promoting informed decision-making and community well-being.</p>\\n<p>\\xa0</p>\\n<p><strong>Why Should You Join?</strong></p><ol> <li><strong>Cutting-Edge Research</strong>: Be at the forefront of healthcare innovation, applying advanced AI and data analysis techniques.</li> <li><strong>Real-World Impact</strong>: Contribute to better healthcare planning, ensuring efficient use of resources and avoiding system overloads.</li> <li><strong>Hands-On Learning</strong>: Gain practical experience in data analysis of often non-ideal real-world data, different machine learning approaches, healthcare management and public health question</li> </ol><p><strong>Learning Objectives:</strong></p><ul> <li>Gain insight into clinical workflows and the intricacies of clinical data management within a healthcare setting.</li> <li>Develop an understanding of the challenges associated with working with real-world health data, including issues related to data quality, privacy, and ethical considerations.</li> <li>Acquire practical experience in working with large databases, learning data retrieval, manipulation, and analysis techniques.</li> <li>Learn to integrate and harmonize diverse data sources to improve the accuracy and robustness of analytical approaches.</li> <li>Develop the ability to critically compare and evaluate various statistical and machine learning methodologies, enabling informed decision-making in selecting the most suitable techniques for specific healthcare data analysis tasks.</li> </ul>', 'dh_master', 'wise-23-24-3859-applied-data-science-on-real_world-hospital-data-ii.html', 'APAD', 'C', 'dh_master', 'Digital Health MA')\n",
      "('wise-23-24-3859-applied-data-science-on-real_world-hospital-data-ii.html', 'https://hpi.de/studium/im-studium/lehrveranstaltungen/cybersecurity-ma/lehrveranstaltung/wise-23-24-3859-applied-data-science-on-real_world-hospital-data-ii.html', None, 'Applied data science on real-world hospital data II', 6, 1.1, 'WiSe 2025/26', '<p>Do you want to make a real impact in the field of healthcare? We invite you to seize the opportunity to become an integral part of an innovative healthcare project in collaboration with the Ernst von Bergmann Clinic, Policlinic, and MvZ. Building upon the successful \"Hospital Control Center\" seminar held in the summer semester of 2023, this project harnesses the knowledge acquired through prior data analysis to enhance hospital planning and, consequently, bolster public health.</p>\\n<p>As we\\'ve all come to realize during the COVID-19 pandemic, early warnings regarding the emergence of new infection waves are crucial for the well-being of the entire population, with a special emphasis on hospital capacity planning. Preventing unnecessary shutdowns of clinical operations and treatment delays, as well as avoiding the overload of hospital resources, is paramount. To avert such scenarios, we are taking action on multiple fronts</p>\\n<p>You will be engaged in the prediction of infection waves in the regions of Brandenburg and Berlin, forecasting the expected hospitalization rates, estimating patient lengths of stay, and projecting medical staff sick leave. These efforts collectively contribute to a comprehensive bed capacity forecast spanning various hospital units.</p>\\n<p>\\xa0</p>\\n<p><strong>Project Phases and Tasks:</strong></p>\\n<p><strong>1. Current State Analysis:</strong> Extract data from EVB databases to understand current hospital conditions, including patient numbers and scheduled procedures. Display this information on the HCC dashboard for easy access.</p>\\n<p>\\xa0</p>\\n<p><strong>2. Length of Stay Prediction: </strong>Building upon previous efforts, employ methods like Random Forest and Decision Trees to forecast patient lengths of stay. Enhance predictions by incorporating additional parameters such as diagnoses, disease severity scores, and lab results. Update the clinical information system (KIS) with these predictions.</p>\\n<p>\\xa0</p>\\n<p><strong>3. Emergency Department Prediction:</strong> Use historical data and results from the infection prediction, along with external factors like weather and holidays, to predict emergency department admissions.</p>\\n<p>\\xa0</p>\\n<p><strong>4. Respiratory Disease Incidence Prediction</strong>: Develop a predictive model for respiratory diseases using data from public sources, RKI data, hospital records, and demographic data. Provide insights into prediction uncertainties and consider creating geographical visualizations.</p>\\n<p>\\xa0</p>\\n<p><strong>5. Hospitalization due to Respiratory Diseases Prediction</strong>: Capitalize on incidence predictions to construct a model projecting hospitalization rate related to respiratory illnesses. Leverage MvZ physician practice data to assess illness severity before hospitalization.</p>\\n<p>\\xa0</p>\\n<p><strong>6. Medical Staff Sick Leave Prediction</strong>: Predict medical staff sick leave based on incidence predictions. This essential step ensures the accuracy of bed capacity forecasts, facilitating effective patient care.</p>\\n<p>\\xa0</p>\\n<p><strong>7. Bed Capacity Forecast:</strong> Combine all findings from Phases 1 to 6 to create a comprehensive bed capacity forecast for the upcoming two weeks. Verify forecast reliability using historical data. Design the bed capacity forecast to update automatically daily based on new data, ensuring real-time resource management.</p>\\n<p>\\xa0</p>\\n<p><strong>8. Geographical Disease Incidence Mapping:</strong> Enhance public awareness and support local businesses by generating user-friendly geographical visualizations depicting disease incidence and risk predictions for the Potsdam/Brandenburg region, promoting informed decision-making and community well-being.</p>\\n<p>\\xa0</p>\\n<p><strong>Why Should You Join?</strong></p><ol> <li><strong>Cutting-Edge Research</strong>: Be at the forefront of healthcare innovation, applying advanced AI and data analysis techniques.</li> <li><strong>Real-World Impact</strong>: Contribute to better healthcare planning, ensuring efficient use of resources and avoiding system overloads.</li> <li><strong>Hands-On Learning</strong>: Gain practical experience in data analysis of often non-ideal real-world data, different machine learning approaches, healthcare management and public health question</li> </ol><p><strong>Learning Objectives:</strong></p><ul> <li>Gain insight into clinical workflows and the intricacies of clinical data management within a healthcare setting.</li> <li>Develop an understanding of the challenges associated with working with real-world health data, including issues related to data quality, privacy, and ethical considerations.</li> <li>Acquire practical experience in working with large databases, learning data retrieval, manipulation, and analysis techniques.</li> <li>Learn to integrate and harmonize diverse data sources to improve the accuracy and robustness of analytical approaches.</li> <li>Develop the ability to critically compare and evaluate various statistical and machine learning methodologies, enabling informed decision-making in selecting the most suitable techniques for specific healthcare data analysis tasks.</li> </ul>', 'dh_master', 'wise-23-24-3859-applied-data-science-on-real_world-hospital-data-ii.html', 'APAD', 'T', 'dh_master', 'Digital Health MA')\n",
      "('wise-23-24-3859-applied-data-science-on-real_world-hospital-data-ii.html', 'https://hpi.de/studium/im-studium/lehrveranstaltungen/cybersecurity-ma/lehrveranstaltung/wise-23-24-3859-applied-data-science-on-real_world-hospital-data-ii.html', None, 'Applied data science on real-world hospital data II', 6, 1.1, 'WiSe 2025/26', '<p>Do you want to make a real impact in the field of healthcare? We invite you to seize the opportunity to become an integral part of an innovative healthcare project in collaboration with the Ernst von Bergmann Clinic, Policlinic, and MvZ. Building upon the successful \"Hospital Control Center\" seminar held in the summer semester of 2023, this project harnesses the knowledge acquired through prior data analysis to enhance hospital planning and, consequently, bolster public health.</p>\\n<p>As we\\'ve all come to realize during the COVID-19 pandemic, early warnings regarding the emergence of new infection waves are crucial for the well-being of the entire population, with a special emphasis on hospital capacity planning. Preventing unnecessary shutdowns of clinical operations and treatment delays, as well as avoiding the overload of hospital resources, is paramount. To avert such scenarios, we are taking action on multiple fronts</p>\\n<p>You will be engaged in the prediction of infection waves in the regions of Brandenburg and Berlin, forecasting the expected hospitalization rates, estimating patient lengths of stay, and projecting medical staff sick leave. These efforts collectively contribute to a comprehensive bed capacity forecast spanning various hospital units.</p>\\n<p>\\xa0</p>\\n<p><strong>Project Phases and Tasks:</strong></p>\\n<p><strong>1. Current State Analysis:</strong> Extract data from EVB databases to understand current hospital conditions, including patient numbers and scheduled procedures. Display this information on the HCC dashboard for easy access.</p>\\n<p>\\xa0</p>\\n<p><strong>2. Length of Stay Prediction: </strong>Building upon previous efforts, employ methods like Random Forest and Decision Trees to forecast patient lengths of stay. Enhance predictions by incorporating additional parameters such as diagnoses, disease severity scores, and lab results. Update the clinical information system (KIS) with these predictions.</p>\\n<p>\\xa0</p>\\n<p><strong>3. Emergency Department Prediction:</strong> Use historical data and results from the infection prediction, along with external factors like weather and holidays, to predict emergency department admissions.</p>\\n<p>\\xa0</p>\\n<p><strong>4. Respiratory Disease Incidence Prediction</strong>: Develop a predictive model for respiratory diseases using data from public sources, RKI data, hospital records, and demographic data. Provide insights into prediction uncertainties and consider creating geographical visualizations.</p>\\n<p>\\xa0</p>\\n<p><strong>5. Hospitalization due to Respiratory Diseases Prediction</strong>: Capitalize on incidence predictions to construct a model projecting hospitalization rate related to respiratory illnesses. Leverage MvZ physician practice data to assess illness severity before hospitalization.</p>\\n<p>\\xa0</p>\\n<p><strong>6. Medical Staff Sick Leave Prediction</strong>: Predict medical staff sick leave based on incidence predictions. This essential step ensures the accuracy of bed capacity forecasts, facilitating effective patient care.</p>\\n<p>\\xa0</p>\\n<p><strong>7. Bed Capacity Forecast:</strong> Combine all findings from Phases 1 to 6 to create a comprehensive bed capacity forecast for the upcoming two weeks. Verify forecast reliability using historical data. Design the bed capacity forecast to update automatically daily based on new data, ensuring real-time resource management.</p>\\n<p>\\xa0</p>\\n<p><strong>8. Geographical Disease Incidence Mapping:</strong> Enhance public awareness and support local businesses by generating user-friendly geographical visualizations depicting disease incidence and risk predictions for the Potsdam/Brandenburg region, promoting informed decision-making and community well-being.</p>\\n<p>\\xa0</p>\\n<p><strong>Why Should You Join?</strong></p><ol> <li><strong>Cutting-Edge Research</strong>: Be at the forefront of healthcare innovation, applying advanced AI and data analysis techniques.</li> <li><strong>Real-World Impact</strong>: Contribute to better healthcare planning, ensuring efficient use of resources and avoiding system overloads.</li> <li><strong>Hands-On Learning</strong>: Gain practical experience in data analysis of often non-ideal real-world data, different machine learning approaches, healthcare management and public health question</li> </ol><p><strong>Learning Objectives:</strong></p><ul> <li>Gain insight into clinical workflows and the intricacies of clinical data management within a healthcare setting.</li> <li>Develop an understanding of the challenges associated with working with real-world health data, including issues related to data quality, privacy, and ethical considerations.</li> <li>Acquire practical experience in working with large databases, learning data retrieval, manipulation, and analysis techniques.</li> <li>Learn to integrate and harmonize diverse data sources to improve the accuracy and robustness of analytical approaches.</li> <li>Develop the ability to critically compare and evaluate various statistical and machine learning methodologies, enabling informed decision-making in selecting the most suitable techniques for specific healthcare data analysis tasks.</li> </ul>', 'dh_master', 'wise-23-24-3859-applied-data-science-on-real_world-hospital-data-ii.html', 'APAD', 'S', 'dh_master', 'Digital Health MA')\n",
      "('wise-23-24-3940-founder-fundamentals.html', 'https://hpi.de/studium/im-studium/lehrveranstaltungen/cybersecurity-ma/lehrveranstaltung/wise-23-24-3940-founder-fundamentals.html', 'http://hpi.de/entrepreneurship/founder-fundamentals', 'Founder Fundamentals', 3, 1.1, 'WS 22/23', None, 'dh_master', 'wise-23-24-3940-founder-fundamentals.html', 'PSK', 'ML', 'dh_master', 'Digital Health MA')\n",
      "('wise-23-24-3934-intrapersonelle--interpersonelle-kompetenzen.html', 'https://hpi.de/studium/im-studium/lehrveranstaltungen/cybersecurity-ma/lehrveranstaltung/wise-23-24-3934-intrapersonelle--interpersonelle-kompetenzen.html', None, 'Intrapersonelle & Interpersonelle Kompetenzen', 3, 1.1, 'WS 22/23', '<p>\\xadJeder Mensch hat unterschiedliche Vorgehensweisen bei der Bearbeitung von Aufgaben und beim Umgang mit herausfordernden Situationen. Einerseits werden diese Muster durch unsere Erfahrungen geprägt. Sie legen nahe, wann und wie wir Probleme lösen, welche Schwerpunkte wir dabei setzen und welchen “Preis” wir dafür zahlen. Andererseits prägen wir mit diesen Vorgehensweisen unsere Beziehungen, die Kommunikation und die Wirkungen gegenüber Anderen. Wir widmen uns den sogenannten „Metakompetenzen“ und der (zwischen)menschlichen „Software“ mit folgenden Schwerpunkten:</p>\\n<p>A) Menschen mit ausgeprägten <strong>intrapersonellen Kompetenzen</strong> sind sich ihrer Stärken, Motivationen, Emotionen und Bedürfnisse sowie deren Ursachen bewusst. Sie reflektieren sich regelmäßig, nutzen ihre Intuition und haben Freude daran, selbstbewusst, ihre Potenziale weiter zu entfalten. <strong>Lernziele, Sie:</strong></p><ul> <li>entwickeln eine Grundausrichtung, die Kraft gibt, zieht und inspiriert.</li> <li>erarbeiten sich mentale Stärke und Strategien für Resilienz.</li> <li>fokussieren Ihre Aufmerksamkeit auf das Wesentliche.</li> <li>erkunden Ihren optimalen Leistungszustand</li> </ul><p>B) Menschen mit hohen <strong>interpersonellen Kompetenzen</strong> gestalten Interaktionen erfolgreich. Sie verstehen zwischenmenschliche Beziehungen, können gut Perspektiven wechseln, kommunizieren zielführend, lösen Spannungen auf und gestalten Gruppensituationen mit Positivität und Kreativität. <strong>Lernziele, Sie:</strong></p><ul> <li>verbessern Ihre Kommunikation und erhöhen Ihre Durchsetzungskraft.</li> <li>trainieren Ihre Empathie, kreative Perspektivenwechsel und verschiedene Dimensionen emotionaler Intelligenz.</li> <li>erlernen das Überbringen unangenehmer Botschaften und Strategien zum Auflösen konfliktbehafteter Situationen.\\xa0\\xa0</li> <li>trainieren Fähigkeiten für den Umgang mit Fehlern, der Potenzialentfaltung bei Veränderungsvorhaben und der Teamenergie.</li> <li>stabilisieren ein entwicklungsorientiertes, agiles und kollaboratives Mind-Set.\\xa0\\xa0\\xa0\\xa0\\xa0\\xa0</li> </ul><p><strong>Dozentin</strong></p>\\n<p>Dr. Jana Leidenfrost:</p>\\n<p>Trainerin und Beraterin im Feld der Internationalen Führungskräfteentwicklung sowie Psychologisches Mentoring in Hochleistungsbereichen. Lehrbeauftragte an verschiedenen Hochschulen; zwischen 2000 und 2010 Managerin, Trainerin und Coach im Feld der Führungskräfteentwicklung der Daimler AG</p>', 'dh_master', 'wise-23-24-3934-intrapersonelle--interpersonelle-kompetenzen.html', 'PSK', 'CO', 'dh_master', 'Digital Health MA')\n",
      "('wise-23-24-3855-lecture-series-on-database-research.html', 'https://hpi.de/studium/im-studium/lehrveranstaltungen/cybersecurity-ma/lehrveranstaltung/wise-23-24-3855-lecture-series-on-database-research.html', '/rabl/teaching/winter-term-2023-24/lecture-series-on-database-research.html', 'Lecture Series on Database Research', 3, 1.1, 'WiSe 2025/26', None, 'dh_master', 'wise-23-24-3855-lecture-series-on-database-research.html', 'SCAD', 'C', 'dh_master', 'Digital Health MA')\n",
      "('wise-23-24-3855-lecture-series-on-database-research.html', 'https://hpi.de/studium/im-studium/lehrveranstaltungen/cybersecurity-ma/lehrveranstaltung/wise-23-24-3855-lecture-series-on-database-research.html', '/rabl/teaching/winter-term-2023-24/lecture-series-on-database-research.html', 'Lecture Series on Database Research', 3, 1.1, 'WiSe 2025/26', None, 'dh_master', 'wise-23-24-3855-lecture-series-on-database-research.html', 'SCAD', 'T', 'dh_master', 'Digital Health MA')\n",
      "('wise-23-24-3855-lecture-series-on-database-research.html', 'https://hpi.de/studium/im-studium/lehrveranstaltungen/cybersecurity-ma/lehrveranstaltung/wise-23-24-3855-lecture-series-on-database-research.html', '/rabl/teaching/winter-term-2023-24/lecture-series-on-database-research.html', 'Lecture Series on Database Research', 3, 1.1, 'WiSe 2025/26', None, 'dh_master', 'wise-23-24-3855-lecture-series-on-database-research.html', 'SCAD', 'S', 'dh_master', 'Digital Health MA')\n",
      "('wise-23-24-3855-lecture-series-on-database-research.html', 'https://hpi.de/studium/im-studium/lehrveranstaltungen/cybersecurity-ma/lehrveranstaltung/wise-23-24-3855-lecture-series-on-database-research.html', '/rabl/teaching/winter-term-2023-24/lecture-series-on-database-research.html', 'Lecture Series on Database Research', 3, 1.1, 'WiSe 2025/26', None, 'dh_master', 'wise-23-24-3855-lecture-series-on-database-research.html', 'APAD', 'C', 'dh_master', 'Digital Health MA')\n",
      "('wise-23-24-3855-lecture-series-on-database-research.html', 'https://hpi.de/studium/im-studium/lehrveranstaltungen/cybersecurity-ma/lehrveranstaltung/wise-23-24-3855-lecture-series-on-database-research.html', '/rabl/teaching/winter-term-2023-24/lecture-series-on-database-research.html', 'Lecture Series on Database Research', 3, 1.1, 'WiSe 2025/26', None, 'dh_master', 'wise-23-24-3855-lecture-series-on-database-research.html', 'APAD', 'T', 'dh_master', 'Digital Health MA')\n",
      "('wise-23-24-3855-lecture-series-on-database-research.html', 'https://hpi.de/studium/im-studium/lehrveranstaltungen/cybersecurity-ma/lehrveranstaltung/wise-23-24-3855-lecture-series-on-database-research.html', '/rabl/teaching/winter-term-2023-24/lecture-series-on-database-research.html', 'Lecture Series on Database Research', 3, 1.1, 'WiSe 2025/26', None, 'dh_master', 'wise-23-24-3855-lecture-series-on-database-research.html', 'APAD', 'S', 'dh_master', 'Digital Health MA')\n",
      "('wise-23-24-3845-mobilkommunikation.html', 'https://hpi.de/studium/im-studium/lehrveranstaltungen/cybersecurity-ma/lehrveranstaltung/wise-23-24-3845-mobilkommunikation.html', None, 'Mobilkommunikation', 6, 1.1, 'WS 21/22', None, 'dh_master', 'wise-23-24-3845-mobilkommunikation.html', 'APAD', 'C', 'dh_master', 'Digital Health MA')\n",
      "('wise-23-24-3845-mobilkommunikation.html', 'https://hpi.de/studium/im-studium/lehrveranstaltungen/cybersecurity-ma/lehrveranstaltung/wise-23-24-3845-mobilkommunikation.html', None, 'Mobilkommunikation', 6, 1.1, 'WS 21/22', None, 'dh_master', 'wise-23-24-3845-mobilkommunikation.html', 'APAD', 'T', 'dh_master', 'Digital Health MA')\n",
      "('wise-23-24-3845-mobilkommunikation.html', 'https://hpi.de/studium/im-studium/lehrveranstaltungen/cybersecurity-ma/lehrveranstaltung/wise-23-24-3845-mobilkommunikation.html', None, 'Mobilkommunikation', 6, 1.1, 'WS 21/22', None, 'dh_master', 'wise-23-24-3845-mobilkommunikation.html', 'APAD', 'S', 'dh_master', 'Digital Health MA')\n",
      "('wise-23-24-3898-trends-and-concepts-in-the-software-industry-_-consulting-the-business.html', 'https://hpi.de/studium/im-studium/lehrveranstaltungen/cybersecurity-ma/lehrveranstaltung/wise-23-24-3898-trends-and-concepts-in-the-software-industry-_-consulting-the-business.html', 'http://hpi.de/plattner/teaching/winter-term-2023-24/trends-and-concepts-in-the-software-industry-seminar.html', 'Trends and Concepts in the Software Industry - Consulting the Business', 6, 1, 'WiSe 2025/26', None, 'dh_master', 'wise-23-24-3898-trends-and-concepts-in-the-software-industry-_-consulting-the-business.html', 'SCAD', 'C', 'dh_master', 'Digital Health MA')\n",
      "('wise-23-24-3898-trends-and-concepts-in-the-software-industry-_-consulting-the-business.html', 'https://hpi.de/studium/im-studium/lehrveranstaltungen/cybersecurity-ma/lehrveranstaltung/wise-23-24-3898-trends-and-concepts-in-the-software-industry-_-consulting-the-business.html', 'http://hpi.de/plattner/teaching/winter-term-2023-24/trends-and-concepts-in-the-software-industry-seminar.html', 'Trends and Concepts in the Software Industry - Consulting the Business', 6, 1, 'WiSe 2025/26', None, 'dh_master', 'wise-23-24-3898-trends-and-concepts-in-the-software-industry-_-consulting-the-business.html', 'SCAD', 'T', 'dh_master', 'Digital Health MA')\n",
      "('wise-23-24-3898-trends-and-concepts-in-the-software-industry-_-consulting-the-business.html', 'https://hpi.de/studium/im-studium/lehrveranstaltungen/cybersecurity-ma/lehrveranstaltung/wise-23-24-3898-trends-and-concepts-in-the-software-industry-_-consulting-the-business.html', 'http://hpi.de/plattner/teaching/winter-term-2023-24/trends-and-concepts-in-the-software-industry-seminar.html', 'Trends and Concepts in the Software Industry - Consulting the Business', 6, 1, 'WiSe 2025/26', None, 'dh_master', 'wise-23-24-3898-trends-and-concepts-in-the-software-industry-_-consulting-the-business.html', 'SCAD', 'S', 'dh_master', 'Digital Health MA')\n",
      "('wise-23-24-3898-trends-and-concepts-in-the-software-industry-_-consulting-the-business.html', 'https://hpi.de/studium/im-studium/lehrveranstaltungen/cybersecurity-ma/lehrveranstaltung/wise-23-24-3898-trends-and-concepts-in-the-software-industry-_-consulting-the-business.html', 'http://hpi.de/plattner/teaching/winter-term-2023-24/trends-and-concepts-in-the-software-industry-seminar.html', 'Trends and Concepts in the Software Industry - Consulting the Business', 6, 1, 'WiSe 2025/26', None, 'dh_master', 'wise-23-24-3898-trends-and-concepts-in-the-software-industry-_-consulting-the-business.html', 'APAD', 'C', 'dh_master', 'Digital Health MA')\n",
      "('wise-23-24-3898-trends-and-concepts-in-the-software-industry-_-consulting-the-business.html', 'https://hpi.de/studium/im-studium/lehrveranstaltungen/cybersecurity-ma/lehrveranstaltung/wise-23-24-3898-trends-and-concepts-in-the-software-industry-_-consulting-the-business.html', 'http://hpi.de/plattner/teaching/winter-term-2023-24/trends-and-concepts-in-the-software-industry-seminar.html', 'Trends and Concepts in the Software Industry - Consulting the Business', 6, 1, 'WiSe 2025/26', None, 'dh_master', 'wise-23-24-3898-trends-and-concepts-in-the-software-industry-_-consulting-the-business.html', 'APAD', 'T', 'dh_master', 'Digital Health MA')\n",
      "('wise-23-24-3898-trends-and-concepts-in-the-software-industry-_-consulting-the-business.html', 'https://hpi.de/studium/im-studium/lehrveranstaltungen/cybersecurity-ma/lehrveranstaltung/wise-23-24-3898-trends-and-concepts-in-the-software-industry-_-consulting-the-business.html', 'http://hpi.de/plattner/teaching/winter-term-2023-24/trends-and-concepts-in-the-software-industry-seminar.html', 'Trends and Concepts in the Software Industry - Consulting the Business', 6, 1, 'WiSe 2025/26', None, 'dh_master', 'wise-23-24-3898-trends-and-concepts-in-the-software-industry-_-consulting-the-business.html', 'APAD', 'S', 'dh_master', 'Digital Health MA')\n",
      "('wise-23-24-4050-digital-health-spark-_-igniting-need_driven-innovation-in-healthcare.html', 'https://hpi.de/studium/im-studium/lehrveranstaltungen/digital-health-ma/lehrveranstaltung/wise-23-24-4050-digital-health-spark-_-igniting-need_driven-innovation-in-healthcare.html', 'https://hpi.de/entrepreneurship/dh-spark.html', 'Digital Health Spark - Igniting Need-Driven Innovation in Healthcare', 6, 1, 'WiSe 2025/26', None, 'dh_master', 'wise-23-24-4050-digital-health-spark-_-igniting-need_driven-innovation-in-healthcare.html', 'DICR', 'C', 'dh_master', 'Digital Health MA')\n",
      "('wise-23-24-4050-digital-health-spark-_-igniting-need_driven-innovation-in-healthcare.html', 'https://hpi.de/studium/im-studium/lehrveranstaltungen/digital-health-ma/lehrveranstaltung/wise-23-24-4050-digital-health-spark-_-igniting-need_driven-innovation-in-healthcare.html', 'https://hpi.de/entrepreneurship/dh-spark.html', 'Digital Health Spark - Igniting Need-Driven Innovation in Healthcare', 6, 1, 'WiSe 2025/26', None, 'dh_master', 'wise-23-24-4050-digital-health-spark-_-igniting-need_driven-innovation-in-healthcare.html', 'DICR', 'T', 'dh_master', 'Digital Health MA')\n",
      "('wise-23-24-4050-digital-health-spark-_-igniting-need_driven-innovation-in-healthcare.html', 'https://hpi.de/studium/im-studium/lehrveranstaltungen/digital-health-ma/lehrveranstaltung/wise-23-24-4050-digital-health-spark-_-igniting-need_driven-innovation-in-healthcare.html', 'https://hpi.de/entrepreneurship/dh-spark.html', 'Digital Health Spark - Igniting Need-Driven Innovation in Healthcare', 6, 1, 'WiSe 2025/26', None, 'dh_master', 'wise-23-24-4050-digital-health-spark-_-igniting-need_driven-innovation-in-healthcare.html', 'DICR', 'S', 'dh_master', 'Digital Health MA')\n"
     ]
    }
   ],
   "source": [
    "for row in cursor.execute(\n",
    "    \"\"\"\n",
    "    SELECT * \n",
    "    FROM modules \n",
    "    JOIN course_modules ON modules.url_trimmed = course_modules.url_trimmed \n",
    "    JOIN courses ON courses.course_abbreviation = course_modules.course_abbreviation\n",
    "    WHERE courses.course_abbreviation LIKE 'dh_master'\n",
    "    AND modules.evap_grade < 1.2;\n",
    "    \"\"\"\n",
    "    ):\n",
    "    print(row)"
   ]
  },
  {
   "cell_type": "code",
   "execution_count": 115,
   "metadata": {},
   "outputs": [
    {
     "data": {
      "text/plain": [
       "116"
      ]
     },
     "execution_count": 115,
     "metadata": {},
     "output_type": "execute_result"
    }
   ],
   "source": [
    "len(modules)"
   ]
  },
  {
   "cell_type": "code",
   "execution_count": 89,
   "metadata": {},
   "outputs": [],
   "source": [
    "cursor.close()\n",
    "connection.close()"
   ]
  },
  {
   "cell_type": "code",
   "execution_count": null,
   "metadata": {},
   "outputs": [],
   "source": []
  }
 ],
 "metadata": {
  "kernelspec": {
   "display_name": "introduction_to_it_systems-yXmSL73L",
   "language": "python",
   "name": "python3"
  },
  "language_info": {
   "codemirror_mode": {
    "name": "ipython",
    "version": 3
   },
   "file_extension": ".py",
   "mimetype": "text/x-python",
   "name": "python",
   "nbconvert_exporter": "python",
   "pygments_lexer": "ipython3",
   "version": "3.8.6"
  }
 },
 "nbformat": 4,
 "nbformat_minor": 2
}
